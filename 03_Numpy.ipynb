{
  "nbformat": 4,
  "nbformat_minor": 0,
  "metadata": {
    "colab": {
      "provenance": [],
      "authorship_tag": "ABX9TyPOpUqj+U1F0/LGe0PD7JZE",
      "include_colab_link": true
    },
    "kernelspec": {
      "name": "python3",
      "display_name": "Python 3"
    },
    "language_info": {
      "name": "python"
    }
  },
  "cells": [
    {
      "cell_type": "markdown",
      "metadata": {
        "id": "view-in-github",
        "colab_type": "text"
      },
      "source": [
        "<a href=\"https://colab.research.google.com/github/nadiralam/data-science-machine-learning-AtoZ-tutorials/blob/main/03_Numpy.ipynb\" target=\"_parent\"><img src=\"https://colab.research.google.com/assets/colab-badge.svg\" alt=\"Open In Colab\"/></a>"
      ]
    },
    {
      "cell_type": "code",
      "execution_count": null,
      "metadata": {
        "id": "ITvh6eWKbhw-"
      },
      "outputs": [],
      "source": [
        "import numpy as np"
      ]
    },
    {
      "cell_type": "markdown",
      "source": [
        "# **sorting**"
      ],
      "metadata": {
        "id": "GDgaAiFohqTK"
      }
    },
    {
      "cell_type": "code",
      "source": [
        "a  = np.random.randint(1,50,15)\n",
        "b = np.random.randint(1,100,24).reshape(6,4)"
      ],
      "metadata": {
        "id": "SXjSFOSGbwbD"
      },
      "execution_count": null,
      "outputs": []
    },
    {
      "cell_type": "code",
      "source": [
        "print(a)\n",
        "print(b)"
      ],
      "metadata": {
        "colab": {
          "base_uri": "https://localhost:8080/"
        },
        "id": "1RFxZnfybweb",
        "outputId": "bcf5c0e0-dd71-4c05-a407-cc9ab78d6c30"
      },
      "execution_count": null,
      "outputs": [
        {
          "output_type": "stream",
          "name": "stdout",
          "text": [
            "[12 39  9 25 21 19 42 21 36 47 19 23 43 20 47]\n",
            "[[ 2  8 87 74]\n",
            " [10 28 83 71]\n",
            " [ 6 51 83 94]\n",
            " [72  6 12 70]\n",
            " [29 49 98 21]\n",
            " [ 9  4 74 61]]\n"
          ]
        }
      ]
    },
    {
      "cell_type": "code",
      "source": [
        "# sorting in ascending order\n",
        "\n",
        "np.sort(a)"
      ],
      "metadata": {
        "colab": {
          "base_uri": "https://localhost:8080/"
        },
        "id": "QZnEYnFBbwjT",
        "outputId": "a8e5a719-7dd1-44df-bc5b-3a24f21b8036"
      },
      "execution_count": null,
      "outputs": [
        {
          "output_type": "execute_result",
          "data": {
            "text/plain": [
              "array([ 9, 12, 19, 19, 20, 21, 21, 23, 25, 36, 39, 42, 43, 47, 47])"
            ]
          },
          "metadata": {},
          "execution_count": 12
        }
      ]
    },
    {
      "cell_type": "code",
      "source": [
        "# sorting in descending order\n",
        "\n",
        "np.sort(a)[::-1]"
      ],
      "metadata": {
        "colab": {
          "base_uri": "https://localhost:8080/"
        },
        "id": "a_2ybjC2bwmD",
        "outputId": "04f8bc64-5d36-42e4-c4b6-fae340396136"
      },
      "execution_count": null,
      "outputs": [
        {
          "output_type": "execute_result",
          "data": {
            "text/plain": [
              "array([47, 47, 43, 42, 39, 36, 25, 23, 21, 21, 20, 19, 19, 12,  9])"
            ]
          },
          "metadata": {},
          "execution_count": 13
        }
      ]
    },
    {
      "cell_type": "code",
      "source": [
        "np.sort(b,axis = 1) # ---------> row wise sorting"
      ],
      "metadata": {
        "colab": {
          "base_uri": "https://localhost:8080/"
        },
        "id": "EcNvdEX3bwoy",
        "outputId": "e94d4c0b-c043-4146-8927-2776f7c03326"
      },
      "execution_count": null,
      "outputs": [
        {
          "output_type": "execute_result",
          "data": {
            "text/plain": [
              "array([[ 2,  8, 74, 87],\n",
              "       [10, 28, 71, 83],\n",
              "       [ 6, 51, 83, 94],\n",
              "       [ 6, 12, 70, 72],\n",
              "       [21, 29, 49, 98],\n",
              "       [ 4,  9, 61, 74]])"
            ]
          },
          "metadata": {},
          "execution_count": 14
        }
      ]
    },
    {
      "cell_type": "code",
      "source": [
        "np.sort(b,axis = 0) # ---------> column wise sorting"
      ],
      "metadata": {
        "colab": {
          "base_uri": "https://localhost:8080/"
        },
        "id": "jAQotWAAbwri",
        "outputId": "e9eb0c5d-7a32-4354-feb7-738dd2885919"
      },
      "execution_count": null,
      "outputs": [
        {
          "output_type": "execute_result",
          "data": {
            "text/plain": [
              "array([[ 2,  4, 12, 21],\n",
              "       [ 6,  6, 74, 61],\n",
              "       [ 9,  8, 83, 70],\n",
              "       [10, 28, 83, 71],\n",
              "       [29, 49, 87, 74],\n",
              "       [72, 51, 98, 94]])"
            ]
          },
          "metadata": {},
          "execution_count": 15
        }
      ]
    },
    {
      "cell_type": "markdown",
      "source": [
        "# **Append**"
      ],
      "metadata": {
        "id": "qKqm2VUli4C3"
      }
    },
    {
      "cell_type": "code",
      "source": [
        "np.append(a,200)"
      ],
      "metadata": {
        "colab": {
          "base_uri": "https://localhost:8080/"
        },
        "id": "Kpppnx59bwuT",
        "outputId": "d5d0ed5a-6e0c-49e5-ba27-ccf5aa32227a"
      },
      "execution_count": null,
      "outputs": [
        {
          "output_type": "execute_result",
          "data": {
            "text/plain": [
              "array([ 12,  39,   9,  25,  21,  19,  42,  21,  36,  47,  19,  23,  43,\n",
              "        20,  47, 200])"
            ]
          },
          "metadata": {},
          "execution_count": 16
        }
      ]
    },
    {
      "cell_type": "code",
      "source": [
        "np.append(b,np.ones((b.shape[0],1)),axis = 1)"
      ],
      "metadata": {
        "colab": {
          "base_uri": "https://localhost:8080/"
        },
        "id": "CLqjKWA3bwxD",
        "outputId": "93248bf1-07d6-43e1-be21-fa78b1be0834"
      },
      "execution_count": null,
      "outputs": [
        {
          "output_type": "execute_result",
          "data": {
            "text/plain": [
              "array([[ 2.,  8., 87., 74.,  1.],\n",
              "       [10., 28., 83., 71.,  1.],\n",
              "       [ 6., 51., 83., 94.,  1.],\n",
              "       [72.,  6., 12., 70.,  1.],\n",
              "       [29., 49., 98., 21.,  1.],\n",
              "       [ 9.,  4., 74., 61.,  1.]])"
            ]
          },
          "metadata": {},
          "execution_count": 18
        }
      ]
    },
    {
      "cell_type": "markdown",
      "source": [
        "# **Concatenate**"
      ],
      "metadata": {
        "id": "37BaUVkZpvm3"
      }
    },
    {
      "cell_type": "code",
      "source": [
        "c = np.arange(6).reshape(2,3)\n",
        "d = np.arange(6,12).reshape(2,3)"
      ],
      "metadata": {
        "id": "3pPN1mYJbwz7"
      },
      "execution_count": null,
      "outputs": []
    },
    {
      "cell_type": "code",
      "source": [
        "np.concatenate((c,d)) # ----------> row wise"
      ],
      "metadata": {
        "colab": {
          "base_uri": "https://localhost:8080/"
        },
        "id": "HyBrPQkrbw2y",
        "outputId": "80ce23bf-e25d-4230-c93f-fb8590ee882f"
      },
      "execution_count": null,
      "outputs": [
        {
          "output_type": "execute_result",
          "data": {
            "text/plain": [
              "array([[ 0,  1,  2],\n",
              "       [ 3,  4,  5],\n",
              "       [ 6,  7,  8],\n",
              "       [ 9, 10, 11]])"
            ]
          },
          "metadata": {},
          "execution_count": 22
        }
      ]
    },
    {
      "cell_type": "code",
      "source": [
        "np.concatenate((c,d),axis = 1) #--------> column wise"
      ],
      "metadata": {
        "colab": {
          "base_uri": "https://localhost:8080/"
        },
        "id": "FJGaV2C0bw50",
        "outputId": "c099a362-36c5-4830-85c2-a4ee76303dc6"
      },
      "execution_count": null,
      "outputs": [
        {
          "output_type": "execute_result",
          "data": {
            "text/plain": [
              "array([[ 0,  1,  2,  6,  7,  8],\n",
              "       [ 3,  4,  5,  9, 10, 11]])"
            ]
          },
          "metadata": {},
          "execution_count": 24
        }
      ]
    },
    {
      "cell_type": "markdown",
      "source": [
        "# **Unique**"
      ],
      "metadata": {
        "id": "vLkobFMNqVSS"
      }
    },
    {
      "cell_type": "code",
      "source": [
        "e = np.array([1,1,1,1,2,2,33,5,5,6,7,7,7,8,8])"
      ],
      "metadata": {
        "id": "B6VyrNJbbw8q"
      },
      "execution_count": null,
      "outputs": []
    },
    {
      "cell_type": "code",
      "source": [
        "np.unique(e)"
      ],
      "metadata": {
        "colab": {
          "base_uri": "https://localhost:8080/"
        },
        "id": "I6yvitXcbw_s",
        "outputId": "d52cdef7-e578-4882-c1e8-6b49d485508f"
      },
      "execution_count": null,
      "outputs": [
        {
          "output_type": "execute_result",
          "data": {
            "text/plain": [
              "array([ 1,  2,  5,  6,  7,  8, 33])"
            ]
          },
          "metadata": {},
          "execution_count": 26
        }
      ]
    },
    {
      "cell_type": "code",
      "source": [],
      "metadata": {
        "id": "GUwrGUuhbxCr"
      },
      "execution_count": null,
      "outputs": []
    },
    {
      "cell_type": "markdown",
      "source": [
        "# **expand_dims**"
      ],
      "metadata": {
        "id": "2G-4sbxDq0NR"
      }
    },
    {
      "cell_type": "code",
      "source": [
        "a"
      ],
      "metadata": {
        "colab": {
          "base_uri": "https://localhost:8080/"
        },
        "id": "jjvpkH7tbxFb",
        "outputId": "258893d1-ab8b-4c97-811d-3f0bbd74257b"
      },
      "execution_count": null,
      "outputs": [
        {
          "output_type": "execute_result",
          "data": {
            "text/plain": [
              "array([12, 39,  9, 25, 21, 19, 42, 21, 36, 47, 19, 23, 43, 20, 47])"
            ]
          },
          "metadata": {},
          "execution_count": 27
        }
      ]
    },
    {
      "cell_type": "code",
      "source": [
        "a.shape"
      ],
      "metadata": {
        "colab": {
          "base_uri": "https://localhost:8080/"
        },
        "id": "HHtGT7CSbxIb",
        "outputId": "ce94c5ca-f1b8-4613-82fa-47a7a4e25b7e"
      },
      "execution_count": null,
      "outputs": [
        {
          "output_type": "execute_result",
          "data": {
            "text/plain": [
              "(15,)"
            ]
          },
          "metadata": {},
          "execution_count": 28
        }
      ]
    },
    {
      "cell_type": "code",
      "source": [
        "np.expand_dims(a,axis = 0).shape"
      ],
      "metadata": {
        "colab": {
          "base_uri": "https://localhost:8080/"
        },
        "id": "VUR3WrPhbxLT",
        "outputId": "f5888a8a-cb65-4e0f-da36-342c93bb174c"
      },
      "execution_count": null,
      "outputs": [
        {
          "output_type": "execute_result",
          "data": {
            "text/plain": [
              "(1, 15)"
            ]
          },
          "metadata": {},
          "execution_count": 30
        }
      ]
    },
    {
      "cell_type": "code",
      "source": [
        "np.expand_dims(a,axis = 1)"
      ],
      "metadata": {
        "colab": {
          "base_uri": "https://localhost:8080/"
        },
        "id": "aQRo7C6prJlR",
        "outputId": "e440aedb-09ac-4529-9838-9aa7ac656ed4"
      },
      "execution_count": null,
      "outputs": [
        {
          "output_type": "execute_result",
          "data": {
            "text/plain": [
              "array([[12],\n",
              "       [39],\n",
              "       [ 9],\n",
              "       [25],\n",
              "       [21],\n",
              "       [19],\n",
              "       [42],\n",
              "       [21],\n",
              "       [36],\n",
              "       [47],\n",
              "       [19],\n",
              "       [23],\n",
              "       [43],\n",
              "       [20],\n",
              "       [47]])"
            ]
          },
          "metadata": {},
          "execution_count": 33
        }
      ]
    },
    {
      "cell_type": "code",
      "source": [
        "np.expand_dims(a,axis = 1).shape"
      ],
      "metadata": {
        "colab": {
          "base_uri": "https://localhost:8080/"
        },
        "id": "efIUlfALbxOd",
        "outputId": "0b053e08-4499-4373-d1d8-5d6ea42dd1fd"
      },
      "execution_count": null,
      "outputs": [
        {
          "output_type": "execute_result",
          "data": {
            "text/plain": [
              "(15, 1)"
            ]
          },
          "metadata": {},
          "execution_count": 31
        }
      ]
    },
    {
      "cell_type": "code",
      "source": [],
      "metadata": {
        "id": "uiqnWQQubxRD"
      },
      "execution_count": null,
      "outputs": []
    },
    {
      "cell_type": "markdown",
      "source": [
        "# **Where**"
      ],
      "metadata": {
        "id": "5RgVAuLZrOGR"
      }
    },
    {
      "cell_type": "code",
      "source": [
        "a"
      ],
      "metadata": {
        "colab": {
          "base_uri": "https://localhost:8080/"
        },
        "id": "9kb0S8oEbxUU",
        "outputId": "612ad866-c899-4e93-8fe6-f61432fe65fd"
      },
      "execution_count": null,
      "outputs": [
        {
          "output_type": "execute_result",
          "data": {
            "text/plain": [
              "array([12, 39,  9, 25, 21, 19, 42, 21, 36, 47, 19, 23, 43, 20, 47])"
            ]
          },
          "metadata": {},
          "execution_count": 34
        }
      ]
    },
    {
      "cell_type": "code",
      "source": [
        "np.where(a>25)"
      ],
      "metadata": {
        "colab": {
          "base_uri": "https://localhost:8080/"
        },
        "id": "ScSeG5GebxXL",
        "outputId": "96a2dd4c-d9d1-4d1f-d54f-65c51f46817d"
      },
      "execution_count": null,
      "outputs": [
        {
          "output_type": "execute_result",
          "data": {
            "text/plain": [
              "(array([ 1,  6,  8,  9, 12, 14]),)"
            ]
          },
          "metadata": {},
          "execution_count": 36
        }
      ]
    },
    {
      "cell_type": "code",
      "source": [
        "b"
      ],
      "metadata": {
        "colab": {
          "base_uri": "https://localhost:8080/"
        },
        "id": "A0a0JXTZbxaa",
        "outputId": "9c1acd0a-6049-42c7-9cdd-0a9be3b5143b"
      },
      "execution_count": null,
      "outputs": [
        {
          "output_type": "execute_result",
          "data": {
            "text/plain": [
              "array([[ 2,  8, 87, 74],\n",
              "       [10, 28, 83, 71],\n",
              "       [ 6, 51, 83, 94],\n",
              "       [72,  6, 12, 70],\n",
              "       [29, 49, 98, 21],\n",
              "       [ 9,  4, 74, 61]])"
            ]
          },
          "metadata": {},
          "execution_count": 37
        }
      ]
    },
    {
      "cell_type": "code",
      "source": [
        "# replace all values > 25 with 0\n",
        "\n",
        "np.where(a>25,0,a)"
      ],
      "metadata": {
        "colab": {
          "base_uri": "https://localhost:8080/"
        },
        "id": "DhgdyqRYbxdD",
        "outputId": "2a805de3-3faa-485d-8ebc-1d2f7a28c711"
      },
      "execution_count": null,
      "outputs": [
        {
          "output_type": "execute_result",
          "data": {
            "text/plain": [
              "array([12,  0,  9, 25, 21, 19,  0, 21,  0,  0, 19, 23,  0, 20,  0])"
            ]
          },
          "metadata": {},
          "execution_count": 39
        }
      ]
    },
    {
      "cell_type": "code",
      "source": [
        "# all even repalces with 0\n",
        "\n",
        "np.where(a%2==0,0,a)"
      ],
      "metadata": {
        "colab": {
          "base_uri": "https://localhost:8080/"
        },
        "id": "mYKz6cKrrpWP",
        "outputId": "91150b72-f9f3-4efb-9d63-749818bb34ca"
      },
      "execution_count": null,
      "outputs": [
        {
          "output_type": "execute_result",
          "data": {
            "text/plain": [
              "array([ 0, 39,  9, 25, 21, 19,  0, 21,  0, 47, 19, 23, 43,  0, 47])"
            ]
          },
          "metadata": {},
          "execution_count": 40
        }
      ]
    },
    {
      "cell_type": "code",
      "source": [],
      "metadata": {
        "id": "XkMhnvh_sDH4"
      },
      "execution_count": null,
      "outputs": []
    },
    {
      "cell_type": "markdown",
      "source": [
        "# **Argmax**"
      ],
      "metadata": {
        "id": "tHJr6c9dsFZY"
      }
    },
    {
      "cell_type": "code",
      "source": [
        "a"
      ],
      "metadata": {
        "colab": {
          "base_uri": "https://localhost:8080/"
        },
        "id": "tXcnytBdsHVI",
        "outputId": "b4d79dd3-8c01-40ad-e465-450072f4ea8b"
      },
      "execution_count": null,
      "outputs": [
        {
          "output_type": "execute_result",
          "data": {
            "text/plain": [
              "array([12, 39,  9, 25, 21, 19, 42, 21, 36, 47, 19, 23, 43, 20, 47])"
            ]
          },
          "metadata": {},
          "execution_count": 41
        }
      ]
    },
    {
      "cell_type": "code",
      "source": [
        "np.argmax(a)"
      ],
      "metadata": {
        "colab": {
          "base_uri": "https://localhost:8080/"
        },
        "id": "9jJUE2uAsKxv",
        "outputId": "a12e8a41-fa5d-4adb-9511-49c2bab5f98a"
      },
      "execution_count": null,
      "outputs": [
        {
          "output_type": "execute_result",
          "data": {
            "text/plain": [
              "9"
            ]
          },
          "metadata": {},
          "execution_count": 42
        }
      ]
    },
    {
      "cell_type": "code",
      "source": [
        "b"
      ],
      "metadata": {
        "colab": {
          "base_uri": "https://localhost:8080/"
        },
        "id": "QhxbK4wmsOUf",
        "outputId": "d4201016-1fc4-4f8b-85af-0f4153f48668"
      },
      "execution_count": null,
      "outputs": [
        {
          "output_type": "execute_result",
          "data": {
            "text/plain": [
              "array([[ 2,  8, 87, 74],\n",
              "       [10, 28, 83, 71],\n",
              "       [ 6, 51, 83, 94],\n",
              "       [72,  6, 12, 70],\n",
              "       [29, 49, 98, 21],\n",
              "       [ 9,  4, 74, 61]])"
            ]
          },
          "metadata": {},
          "execution_count": 43
        }
      ]
    },
    {
      "cell_type": "code",
      "source": [
        "np.argmax(b,axis = 0)"
      ],
      "metadata": {
        "colab": {
          "base_uri": "https://localhost:8080/"
        },
        "id": "-ipAP_onsUrA",
        "outputId": "aedd5572-9f54-4bf1-b0eb-d12238ebe3ca"
      },
      "execution_count": null,
      "outputs": [
        {
          "output_type": "execute_result",
          "data": {
            "text/plain": [
              "array([3, 2, 4, 2])"
            ]
          },
          "metadata": {},
          "execution_count": 46
        }
      ]
    },
    {
      "cell_type": "code",
      "source": [
        "np.argmax(b,axis = 1)"
      ],
      "metadata": {
        "colab": {
          "base_uri": "https://localhost:8080/"
        },
        "id": "B6q52yEksYR4",
        "outputId": "980cbaf0-1a75-4cc0-db6e-c10305ed8227"
      },
      "execution_count": null,
      "outputs": [
        {
          "output_type": "execute_result",
          "data": {
            "text/plain": [
              "array([2, 2, 3, 0, 2, 2])"
            ]
          },
          "metadata": {},
          "execution_count": 47
        }
      ]
    },
    {
      "cell_type": "code",
      "source": [],
      "metadata": {
        "id": "IirX9Ojist_P"
      },
      "execution_count": null,
      "outputs": []
    },
    {
      "cell_type": "markdown",
      "source": [
        "# **argmin**"
      ],
      "metadata": {
        "id": "y0tRJPLOsvuo"
      }
    },
    {
      "cell_type": "code",
      "source": [
        "np.argmin(a)"
      ],
      "metadata": {
        "colab": {
          "base_uri": "https://localhost:8080/"
        },
        "id": "m3w3lrm_sx22",
        "outputId": "fa8b65bc-ebd9-4037-8cdf-4d5a19aedae4"
      },
      "execution_count": null,
      "outputs": [
        {
          "output_type": "execute_result",
          "data": {
            "text/plain": [
              "2"
            ]
          },
          "metadata": {},
          "execution_count": 48
        }
      ]
    },
    {
      "cell_type": "code",
      "source": [
        "np.argmin(b,axis = 1)"
      ],
      "metadata": {
        "colab": {
          "base_uri": "https://localhost:8080/"
        },
        "id": "2mx4UyoZs0Tx",
        "outputId": "87d0cc30-b6bb-4f37-bace-26a16a70ae3c"
      },
      "execution_count": null,
      "outputs": [
        {
          "output_type": "execute_result",
          "data": {
            "text/plain": [
              "array([0, 0, 0, 1, 3, 1])"
            ]
          },
          "metadata": {},
          "execution_count": 49
        }
      ]
    },
    {
      "cell_type": "code",
      "source": [],
      "metadata": {
        "id": "7hYhItics4lX"
      },
      "execution_count": null,
      "outputs": []
    },
    {
      "cell_type": "markdown",
      "source": [
        "# **cumsum**"
      ],
      "metadata": {
        "id": "iGoJfp58s6SJ"
      }
    },
    {
      "cell_type": "code",
      "source": [
        "a"
      ],
      "metadata": {
        "colab": {
          "base_uri": "https://localhost:8080/"
        },
        "id": "ZKN1lkKSs8NG",
        "outputId": "7b9c97fb-403a-4413-e897-175ea9a413d3"
      },
      "execution_count": null,
      "outputs": [
        {
          "output_type": "execute_result",
          "data": {
            "text/plain": [
              "array([12, 39,  9, 25, 21, 19, 42, 21, 36, 47, 19, 23, 43, 20, 47])"
            ]
          },
          "metadata": {},
          "execution_count": 50
        }
      ]
    },
    {
      "cell_type": "code",
      "source": [
        "np.cumsum(a)"
      ],
      "metadata": {
        "colab": {
          "base_uri": "https://localhost:8080/"
        },
        "id": "BVhqqyigs9gn",
        "outputId": "dcbd39a2-f2a4-446a-a67c-35ccaff23076"
      },
      "execution_count": null,
      "outputs": [
        {
          "output_type": "execute_result",
          "data": {
            "text/plain": [
              "array([ 12,  51,  60,  85, 106, 125, 167, 188, 224, 271, 290, 313, 356,\n",
              "       376, 423])"
            ]
          },
          "metadata": {},
          "execution_count": 51
        }
      ]
    },
    {
      "cell_type": "code",
      "source": [
        "b"
      ],
      "metadata": {
        "colab": {
          "base_uri": "https://localhost:8080/"
        },
        "id": "nyZkIJ7atAdg",
        "outputId": "c4189311-2836-4f9c-ee5f-d216360b9e75"
      },
      "execution_count": null,
      "outputs": [
        {
          "output_type": "execute_result",
          "data": {
            "text/plain": [
              "array([[ 2,  8, 87, 74],\n",
              "       [10, 28, 83, 71],\n",
              "       [ 6, 51, 83, 94],\n",
              "       [72,  6, 12, 70],\n",
              "       [29, 49, 98, 21],\n",
              "       [ 9,  4, 74, 61]])"
            ]
          },
          "metadata": {},
          "execution_count": 52
        }
      ]
    },
    {
      "cell_type": "code",
      "source": [
        "np.cumsum(b,axis = 1)"
      ],
      "metadata": {
        "colab": {
          "base_uri": "https://localhost:8080/"
        },
        "id": "ArizWsc7tEon",
        "outputId": "55342d03-a85b-47d3-b0d5-e156210ad119"
      },
      "execution_count": null,
      "outputs": [
        {
          "output_type": "execute_result",
          "data": {
            "text/plain": [
              "array([[  2,  10,  97, 171],\n",
              "       [ 10,  38, 121, 192],\n",
              "       [  6,  57, 140, 234],\n",
              "       [ 72,  78,  90, 160],\n",
              "       [ 29,  78, 176, 197],\n",
              "       [  9,  13,  87, 148]])"
            ]
          },
          "metadata": {},
          "execution_count": 54
        }
      ]
    },
    {
      "cell_type": "code",
      "source": [
        "np.cumsum(b,axis = 0)"
      ],
      "metadata": {
        "colab": {
          "base_uri": "https://localhost:8080/"
        },
        "id": "cGlGNPxhtK00",
        "outputId": "1514d4b7-5c50-4288-d619-5fe05fc96f4c"
      },
      "execution_count": null,
      "outputs": [
        {
          "output_type": "execute_result",
          "data": {
            "text/plain": [
              "array([[  2,   8,  87,  74],\n",
              "       [ 12,  36, 170, 145],\n",
              "       [ 18,  87, 253, 239],\n",
              "       [ 90,  93, 265, 309],\n",
              "       [119, 142, 363, 330],\n",
              "       [128, 146, 437, 391]])"
            ]
          },
          "metadata": {},
          "execution_count": 55
        }
      ]
    },
    {
      "cell_type": "code",
      "source": [],
      "metadata": {
        "id": "zT66o7dutTKe"
      },
      "execution_count": null,
      "outputs": []
    },
    {
      "cell_type": "markdown",
      "source": [
        "# **cumprod**"
      ],
      "metadata": {
        "id": "CnrJZc3dtUDI"
      }
    },
    {
      "cell_type": "code",
      "source": [
        "a"
      ],
      "metadata": {
        "colab": {
          "base_uri": "https://localhost:8080/"
        },
        "id": "6vJo5o0ctXaO",
        "outputId": "3c78f4ce-064d-47b5-86ae-360c9368380f"
      },
      "execution_count": null,
      "outputs": [
        {
          "output_type": "execute_result",
          "data": {
            "text/plain": [
              "array([12, 39,  9, 25, 21, 19, 42, 21, 36, 47, 19, 23, 43, 20, 47])"
            ]
          },
          "metadata": {},
          "execution_count": 56
        }
      ]
    },
    {
      "cell_type": "code",
      "source": [
        "np.cumprod(a)"
      ],
      "metadata": {
        "colab": {
          "base_uri": "https://localhost:8080/"
        },
        "id": "2w_roBTttX-K",
        "outputId": "70499dae-994d-415f-b069-ba26b892239f"
      },
      "execution_count": null,
      "outputs": [
        {
          "output_type": "execute_result",
          "data": {
            "text/plain": [
              "array([                 12,                 468,                4212,\n",
              "                    105300,             2211300,            42014700,\n",
              "                1764617400,         37056965400,       1334050754400,\n",
              "            62700385456800,    1191307323679200,   27400068444621600,\n",
              "       1178202943118728800, 5117314788665024384,  706122109031975040])"
            ]
          },
          "metadata": {},
          "execution_count": 57
        }
      ]
    },
    {
      "cell_type": "markdown",
      "source": [
        "# **Percentile**"
      ],
      "metadata": {
        "id": "vQ9D77tGtddZ"
      }
    },
    {
      "cell_type": "code",
      "source": [
        "a"
      ],
      "metadata": {
        "colab": {
          "base_uri": "https://localhost:8080/"
        },
        "id": "kvn-05OutaLO",
        "outputId": "8114c542-5603-45b8-a09d-348912dabbe8"
      },
      "execution_count": null,
      "outputs": [
        {
          "output_type": "execute_result",
          "data": {
            "text/plain": [
              "array([12, 39,  9, 25, 21, 19, 42, 21, 36, 47, 19, 23, 43, 20, 47])"
            ]
          },
          "metadata": {},
          "execution_count": 58
        }
      ]
    },
    {
      "cell_type": "code",
      "source": [
        "np.percentile(a,50)"
      ],
      "metadata": {
        "colab": {
          "base_uri": "https://localhost:8080/"
        },
        "id": "zIOeYgLmtgrX",
        "outputId": "85e8a5fb-09fb-48ee-c3d3-3d3c7f5c88fa"
      },
      "execution_count": null,
      "outputs": [
        {
          "output_type": "execute_result",
          "data": {
            "text/plain": [
              "23.0"
            ]
          },
          "metadata": {},
          "execution_count": 60
        }
      ]
    },
    {
      "cell_type": "code",
      "source": [
        "np.percentile(a,100)"
      ],
      "metadata": {
        "colab": {
          "base_uri": "https://localhost:8080/"
        },
        "id": "NKFP59Fltk3W",
        "outputId": "15af8568-a18c-43e8-8f1e-b1a15a48099a"
      },
      "execution_count": null,
      "outputs": [
        {
          "output_type": "execute_result",
          "data": {
            "text/plain": [
              "47.0"
            ]
          },
          "metadata": {},
          "execution_count": 61
        }
      ]
    },
    {
      "cell_type": "markdown",
      "source": [
        "# **Histogram**"
      ],
      "metadata": {
        "id": "sH9AL7rWtx1Q"
      }
    },
    {
      "cell_type": "code",
      "source": [
        "a"
      ],
      "metadata": {
        "colab": {
          "base_uri": "https://localhost:8080/"
        },
        "id": "Y0JVzRWrtvkG",
        "outputId": "8683c378-6e8a-4265-e5c6-55045730b131"
      },
      "execution_count": null,
      "outputs": [
        {
          "output_type": "execute_result",
          "data": {
            "text/plain": [
              "array([12, 39,  9, 25, 21, 19, 42, 21, 36, 47, 19, 23, 43, 20, 47])"
            ]
          },
          "metadata": {},
          "execution_count": 62
        }
      ]
    },
    {
      "cell_type": "code",
      "source": [
        "np.histogram(a,bins = [1,25,50])"
      ],
      "metadata": {
        "colab": {
          "base_uri": "https://localhost:8080/"
        },
        "id": "gY9sP0Z3t1_v",
        "outputId": "defb8948-44ec-4903-9f4b-aaf0c2d50541"
      },
      "execution_count": null,
      "outputs": [
        {
          "output_type": "execute_result",
          "data": {
            "text/plain": [
              "(array([8, 7]), array([ 1, 25, 50]))"
            ]
          },
          "metadata": {},
          "execution_count": 64
        }
      ]
    },
    {
      "cell_type": "markdown",
      "source": [
        "# **Corrcoef**"
      ],
      "metadata": {
        "id": "j6YBSizquFuY"
      }
    },
    {
      "cell_type": "code",
      "source": [
        "salary = np.array([20000,40000,50000,60000])\n",
        "experience = np.array([1,3,2,4])\n",
        "\n",
        "np.corrcoef(salary,experience)"
      ],
      "metadata": {
        "colab": {
          "base_uri": "https://localhost:8080/"
        },
        "id": "LV2DGnvMt88G",
        "outputId": "a2d28da2-5c5a-4e84-f7d4-7507cfbb3ac1"
      },
      "execution_count": null,
      "outputs": [
        {
          "output_type": "execute_result",
          "data": {
            "text/plain": [
              "array([[1.        , 0.83152184],\n",
              "       [0.83152184, 1.        ]])"
            ]
          },
          "metadata": {},
          "execution_count": 66
        }
      ]
    },
    {
      "cell_type": "code",
      "source": [],
      "metadata": {
        "id": "9ixs48-NuKzO"
      },
      "execution_count": null,
      "outputs": []
    },
    {
      "cell_type": "markdown",
      "source": [
        "# **Isin**"
      ],
      "metadata": {
        "id": "TDGIcAyrupdi"
      }
    },
    {
      "cell_type": "code",
      "source": [
        "a"
      ],
      "metadata": {
        "colab": {
          "base_uri": "https://localhost:8080/"
        },
        "id": "ajym3qycurkW",
        "outputId": "d2537704-f09f-46d7-d7f1-f5a200ecfdef"
      },
      "execution_count": null,
      "outputs": [
        {
          "output_type": "execute_result",
          "data": {
            "text/plain": [
              "array([12, 39,  9, 25, 21, 19, 42, 21, 36, 47, 19, 23, 43, 20, 47])"
            ]
          },
          "metadata": {},
          "execution_count": 67
        }
      ]
    },
    {
      "cell_type": "code",
      "source": [
        "item = np.array([12,45,56,33,22,44,11,77,43,23])"
      ],
      "metadata": {
        "id": "YP66T0pSutem"
      },
      "execution_count": null,
      "outputs": []
    },
    {
      "cell_type": "code",
      "source": [
        "np.isin(item ,a)"
      ],
      "metadata": {
        "colab": {
          "base_uri": "https://localhost:8080/"
        },
        "id": "52Jx2poeu5Ku",
        "outputId": "a39fb797-1e1c-421b-ccd0-ad67be09ca84"
      },
      "execution_count": null,
      "outputs": [
        {
          "output_type": "execute_result",
          "data": {
            "text/plain": [
              "array([ True, False, False, False, False, False, False, False,  True,\n",
              "        True])"
            ]
          },
          "metadata": {},
          "execution_count": 69
        }
      ]
    },
    {
      "cell_type": "code",
      "source": [
        "item[np.isin(item ,a)]"
      ],
      "metadata": {
        "colab": {
          "base_uri": "https://localhost:8080/"
        },
        "id": "fJArDyi6vA3Z",
        "outputId": "42b5bb95-3598-401e-fc6d-b3bbcac8dbf7"
      },
      "execution_count": null,
      "outputs": [
        {
          "output_type": "execute_result",
          "data": {
            "text/plain": [
              "array([12, 43, 23])"
            ]
          },
          "metadata": {},
          "execution_count": 73
        }
      ]
    },
    {
      "cell_type": "markdown",
      "source": [
        "# **Flip**"
      ],
      "metadata": {
        "id": "vDUflYGavUYi"
      }
    },
    {
      "cell_type": "code",
      "source": [
        "a"
      ],
      "metadata": {
        "colab": {
          "base_uri": "https://localhost:8080/"
        },
        "id": "sf4AXFCpvJKl",
        "outputId": "75ac1a35-8956-46d5-b454-9194a592b85c"
      },
      "execution_count": null,
      "outputs": [
        {
          "output_type": "execute_result",
          "data": {
            "text/plain": [
              "array([12, 39,  9, 25, 21, 19, 42, 21, 36, 47, 19, 23, 43, 20, 47])"
            ]
          },
          "metadata": {},
          "execution_count": 74
        }
      ]
    },
    {
      "cell_type": "code",
      "source": [
        "np.flip(a)"
      ],
      "metadata": {
        "colab": {
          "base_uri": "https://localhost:8080/"
        },
        "id": "NJJ8s4WBvX7-",
        "outputId": "450229af-1e03-4bdc-94c6-5dc0ad8665f1"
      },
      "execution_count": null,
      "outputs": [
        {
          "output_type": "execute_result",
          "data": {
            "text/plain": [
              "array([47, 20, 43, 23, 19, 47, 36, 21, 42, 19, 21, 25,  9, 39, 12])"
            ]
          },
          "metadata": {},
          "execution_count": 75
        }
      ]
    },
    {
      "cell_type": "code",
      "source": [],
      "metadata": {
        "id": "SMvBK-qQvaJ2"
      },
      "execution_count": null,
      "outputs": []
    },
    {
      "cell_type": "markdown",
      "source": [
        "# **Put**"
      ],
      "metadata": {
        "id": "EkFwN2lXveuo"
      }
    },
    {
      "cell_type": "code",
      "source": [
        "a"
      ],
      "metadata": {
        "colab": {
          "base_uri": "https://localhost:8080/"
        },
        "id": "YQYo5kuDvgZN",
        "outputId": "3328663b-5e22-48fd-dccd-feb85f48ad40"
      },
      "execution_count": null,
      "outputs": [
        {
          "output_type": "execute_result",
          "data": {
            "text/plain": [
              "array([12, 39,  9, 25, 21, 19, 42, 21, 36, 47, 19, 23, 43, 20, 47])"
            ]
          },
          "metadata": {},
          "execution_count": 76
        }
      ]
    },
    {
      "cell_type": "code",
      "source": [
        "np.put(a,[0,1],[120,150])"
      ],
      "metadata": {
        "id": "u6vswHQBvhEe"
      },
      "execution_count": null,
      "outputs": []
    },
    {
      "cell_type": "code",
      "source": [
        "a"
      ],
      "metadata": {
        "colab": {
          "base_uri": "https://localhost:8080/"
        },
        "id": "49k71TMovo22",
        "outputId": "9b8286c2-be45-4a17-8902-18366f7daa28"
      },
      "execution_count": null,
      "outputs": [
        {
          "output_type": "execute_result",
          "data": {
            "text/plain": [
              "array([120, 150,   9,  25,  21,  19,  42,  21,  36,  47,  19,  23,  43,\n",
              "        20,  47])"
            ]
          },
          "metadata": {},
          "execution_count": 78
        }
      ]
    },
    {
      "cell_type": "code",
      "source": [],
      "metadata": {
        "id": "yy5TYmANvp6e"
      },
      "execution_count": null,
      "outputs": []
    },
    {
      "cell_type": "markdown",
      "source": [
        "# **Delete**"
      ],
      "metadata": {
        "id": "hFkDJ2f2vtnA"
      }
    },
    {
      "cell_type": "code",
      "source": [
        "a"
      ],
      "metadata": {
        "colab": {
          "base_uri": "https://localhost:8080/"
        },
        "id": "u38haB5_vuz1",
        "outputId": "a66e9a29-8bf7-48aa-81ad-1b63376080c1"
      },
      "execution_count": null,
      "outputs": [
        {
          "output_type": "execute_result",
          "data": {
            "text/plain": [
              "array([120, 150,   9,  25,  21,  19,  42,  21,  36,  47,  19,  23,  43,\n",
              "        20,  47])"
            ]
          },
          "metadata": {},
          "execution_count": 79
        }
      ]
    },
    {
      "cell_type": "code",
      "source": [
        "np.delete(a,[0,1])"
      ],
      "metadata": {
        "colab": {
          "base_uri": "https://localhost:8080/"
        },
        "id": "wG1WyIyXvxgW",
        "outputId": "c6c0fff4-1d8c-4ebb-f2e1-d14d94bad5d7"
      },
      "execution_count": null,
      "outputs": [
        {
          "output_type": "execute_result",
          "data": {
            "text/plain": [
              "array([ 9, 25, 21, 19, 42, 21, 36, 47, 19, 23, 43, 20, 47])"
            ]
          },
          "metadata": {},
          "execution_count": 80
        }
      ]
    },
    {
      "cell_type": "code",
      "source": [],
      "metadata": {
        "id": "1S7rnUY8v1iN"
      },
      "execution_count": null,
      "outputs": []
    },
    {
      "cell_type": "markdown",
      "source": [
        "# **Set Function**"
      ],
      "metadata": {
        "id": "FelB82A6v42g"
      }
    },
    {
      "cell_type": "code",
      "source": [
        "# np.union1d\n",
        "\n",
        "e = np.array([1,2,3,4,5])\n",
        "f = np.array([3,4,5,6,7])\n",
        "\n",
        "np.union1d(e,f)"
      ],
      "metadata": {
        "colab": {
          "base_uri": "https://localhost:8080/"
        },
        "id": "dqNskmxrv6zc",
        "outputId": "046f45c6-6395-4a98-a3d5-4d201f25dd92"
      },
      "execution_count": null,
      "outputs": [
        {
          "output_type": "execute_result",
          "data": {
            "text/plain": [
              "array([1, 2, 3, 4, 5, 6, 7])"
            ]
          },
          "metadata": {},
          "execution_count": 81
        }
      ]
    },
    {
      "cell_type": "code",
      "source": [
        "# np.intersect1d\n",
        "\n",
        "e = np.array([1,2,3,4,5])\n",
        "f = np.array([3,4,5,6,7])\n",
        "\n",
        "np.intersect1d(e,f)"
      ],
      "metadata": {
        "colab": {
          "base_uri": "https://localhost:8080/"
        },
        "id": "UhhkjmLHwG4F",
        "outputId": "efaf331c-e86a-454e-891c-8148588ff2b4"
      },
      "execution_count": null,
      "outputs": [
        {
          "output_type": "execute_result",
          "data": {
            "text/plain": [
              "array([3, 4, 5])"
            ]
          },
          "metadata": {},
          "execution_count": 82
        }
      ]
    },
    {
      "cell_type": "code",
      "source": [
        "# np.setdiff1d\n",
        "\n",
        "e = np.array([1,2,3,4,5])\n",
        "f = np.array([3,4,5,6,7])\n",
        "\n",
        "np.setdiff1d(e,f)"
      ],
      "metadata": {
        "colab": {
          "base_uri": "https://localhost:8080/"
        },
        "id": "fXU9NQcfwUmu",
        "outputId": "161732a9-a4d9-4127-fb30-36b45d76b453"
      },
      "execution_count": null,
      "outputs": [
        {
          "output_type": "execute_result",
          "data": {
            "text/plain": [
              "array([1, 2])"
            ]
          },
          "metadata": {},
          "execution_count": 83
        }
      ]
    },
    {
      "cell_type": "code",
      "source": [
        "# np.setxor1d\n",
        "\n",
        "e = np.array([1,2,3,4,5])\n",
        "f = np.array([3,4,5,6,7])\n",
        "\n",
        "np.setxor1d(e,f)"
      ],
      "metadata": {
        "colab": {
          "base_uri": "https://localhost:8080/"
        },
        "id": "pG3WqS-3wa-1",
        "outputId": "7babf9ce-d071-43c8-eb35-476f175a9e33"
      },
      "execution_count": null,
      "outputs": [
        {
          "output_type": "execute_result",
          "data": {
            "text/plain": [
              "array([1, 2, 6, 7])"
            ]
          },
          "metadata": {},
          "execution_count": 84
        }
      ]
    },
    {
      "cell_type": "code",
      "source": [
        "# np.in1d\n",
        "\n",
        "e = np.array([1,2,3,4,5])\n",
        "f = np.array([3,4,5,6,7])\n",
        "\n",
        "np.in1d(e,f)"
      ],
      "metadata": {
        "colab": {
          "base_uri": "https://localhost:8080/"
        },
        "id": "eBNkltQUwic9",
        "outputId": "e28bec35-cc78-4666-8841-abb77f3863ed"
      },
      "execution_count": null,
      "outputs": [
        {
          "output_type": "execute_result",
          "data": {
            "text/plain": [
              "array([False, False,  True,  True,  True])"
            ]
          },
          "metadata": {},
          "execution_count": 85
        }
      ]
    },
    {
      "cell_type": "code",
      "source": [
        "e[np.in1d(e,f)]"
      ],
      "metadata": {
        "colab": {
          "base_uri": "https://localhost:8080/"
        },
        "id": "kQLrWYvhwsWl",
        "outputId": "3a03c5ed-b26f-4c9e-c3a8-25d8b4fd9ad9"
      },
      "execution_count": null,
      "outputs": [
        {
          "output_type": "execute_result",
          "data": {
            "text/plain": [
              "array([3, 4, 5])"
            ]
          },
          "metadata": {},
          "execution_count": 86
        }
      ]
    },
    {
      "cell_type": "code",
      "source": [],
      "metadata": {
        "id": "vPYzT2nkwwyE"
      },
      "execution_count": null,
      "outputs": []
    },
    {
      "cell_type": "markdown",
      "source": [
        "# **Clip**"
      ],
      "metadata": {
        "id": "aq4dEVTIwyZ3"
      }
    },
    {
      "cell_type": "code",
      "source": [
        "a"
      ],
      "metadata": {
        "colab": {
          "base_uri": "https://localhost:8080/"
        },
        "id": "fWcFIq22wz6s",
        "outputId": "4da7f4ef-b426-460d-c21c-6733833924bb"
      },
      "execution_count": null,
      "outputs": [
        {
          "output_type": "execute_result",
          "data": {
            "text/plain": [
              "array([120, 150,   9,  25,  21,  19,  42,  21,  36,  47,  19,  23,  43,\n",
              "        20,  47])"
            ]
          },
          "metadata": {},
          "execution_count": 87
        }
      ]
    },
    {
      "cell_type": "code",
      "source": [
        "np.clip(a,a_max = 50, a_min = 10)"
      ],
      "metadata": {
        "colab": {
          "base_uri": "https://localhost:8080/"
        },
        "id": "Z9bU2lFgw41l",
        "outputId": "ca49d233-1718-45fa-9409-0d2fb6b8d099"
      },
      "execution_count": null,
      "outputs": [
        {
          "output_type": "execute_result",
          "data": {
            "text/plain": [
              "array([50, 50, 10, 25, 21, 19, 42, 21, 36, 47, 19, 23, 43, 20, 47])"
            ]
          },
          "metadata": {},
          "execution_count": 88
        }
      ]
    },
    {
      "cell_type": "code",
      "source": [],
      "metadata": {
        "id": "JlN-xCPNxDKF"
      },
      "execution_count": null,
      "outputs": []
    }
  ]
}