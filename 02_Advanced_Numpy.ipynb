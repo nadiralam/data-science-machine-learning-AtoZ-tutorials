{
  "cells": [
    {
      "cell_type": "markdown",
      "metadata": {
        "id": "view-in-github",
        "colab_type": "text"
      },
      "source": [
        "<a href=\"https://colab.research.google.com/github/nadiralam/data-science-machine-learning-AtoZ-tutorials/blob/main/02_Advanced_Numpy.ipynb\" target=\"_parent\"><img src=\"https://colab.research.google.com/assets/colab-badge.svg\" alt=\"Open In Colab\"/></a>"
      ]
    },
    {
      "cell_type": "code",
      "execution_count": null,
      "metadata": {
        "id": "EbATDgrFfNOB"
      },
      "outputs": [],
      "source": [
        "import numpy as np"
      ]
    },
    {
      "cell_type": "code",
      "execution_count": null,
      "metadata": {
        "id": "3AIFMb9hfVLZ"
      },
      "outputs": [],
      "source": []
    },
    {
      "cell_type": "markdown",
      "metadata": {
        "id": "3uRzxiKA9jO_"
      },
      "source": [
        "# **Why we used numpy instead of list **"
      ]
    },
    {
      "cell_type": "code",
      "execution_count": null,
      "metadata": {
        "colab": {
          "base_uri": "https://localhost:8080/"
        },
        "id": "4p1BtFvhfVOR",
        "outputId": "41593635-bba3-4b82-e25e-c4080ce2b3b1"
      },
      "outputs": [
        {
          "name": "stdout",
          "output_type": "stream",
          "text": [
            "4.05578875541687\n"
          ]
        }
      ],
      "source": [
        "# Speed\n",
        "\n",
        "a = [i for i in range(10000000)]\n",
        "b = [i for i in range(10000000,20000000)]\n",
        "c =[]\n",
        "\n",
        "import time\n",
        "start = time.time()\n",
        "\n",
        "for i in range(len(a)):\n",
        "  c.append(a[i] + b[i])\n",
        "\n",
        "print(time.time() - start)"
      ]
    },
    {
      "cell_type": "code",
      "execution_count": null,
      "metadata": {
        "colab": {
          "base_uri": "https://localhost:8080/"
        },
        "id": "3j2w2xcwfVRw",
        "outputId": "2f956091-6d15-44ee-f2ea-6f2b082cc3c2"
      },
      "outputs": [
        {
          "name": "stdout",
          "output_type": "stream",
          "text": [
            "0.00013756752014160156\n"
          ]
        }
      ],
      "source": [
        "# in numpy\n",
        "\n",
        "a = np.arange(10000000)\n",
        "b = np.arange(10000000,20000000)\n",
        "c = a + b\n",
        "\n",
        "start = time.time()\n",
        "print(time.time() - start)"
      ]
    },
    {
      "cell_type": "code",
      "execution_count": null,
      "metadata": {
        "colab": {
          "base_uri": "https://localhost:8080/"
        },
        "id": "JCP20UvZfVUx",
        "outputId": "a78d4ed1-c0cc-4d58-f3e2-45f74ccaca96"
      },
      "outputs": [
        {
          "data": {
            "text/plain": [
              "89095160"
            ]
          },
          "execution_count": 5,
          "metadata": {},
          "output_type": "execute_result"
        }
      ],
      "source": [
        "# memory\n",
        "\n",
        "import sys\n",
        "a = [i for i in range(10000000)]\n",
        "sys.getsizeof(a)"
      ]
    },
    {
      "cell_type": "code",
      "execution_count": null,
      "metadata": {
        "colab": {
          "base_uri": "https://localhost:8080/"
        },
        "id": "CyhmGaT-fVaZ",
        "outputId": "1cda5c72-630a-44d8-c83c-ad1fc4377f6a"
      },
      "outputs": [
        {
          "data": {
            "text/plain": [
              "40000112"
            ]
          },
          "execution_count": 10,
          "metadata": {},
          "output_type": "execute_result"
        }
      ],
      "source": [
        "a = np.arange(10000000,dtype=np.int32)\n",
        "sys.getsizeof(a)"
      ]
    },
    {
      "cell_type": "code",
      "execution_count": null,
      "metadata": {
        "id": "5pavFF6-fVdZ"
      },
      "outputs": [],
      "source": []
    },
    {
      "cell_type": "markdown",
      "metadata": {
        "id": "g2JPiOFL_5Sa"
      },
      "source": [
        "# **Advanced Indexing**"
      ]
    },
    {
      "cell_type": "code",
      "execution_count": null,
      "metadata": {
        "colab": {
          "base_uri": "https://localhost:8080/"
        },
        "id": "lGAQDtzhfVgJ",
        "outputId": "6e264dc9-fea4-4d66-ed8e-163fa2136830"
      },
      "outputs": [
        {
          "name": "stdout",
          "output_type": "stream",
          "text": [
            "[[ 0  1  2  3]\n",
            " [ 4  5  6  7]\n",
            " [ 8  9 10 11]\n",
            " [12 13 14 15]\n",
            " [16 17 18 19]\n",
            " [20 21 22 23]]\n"
          ]
        }
      ],
      "source": [
        "a = np.arange(24).reshape(6,4)\n",
        "print(a)"
      ]
    },
    {
      "cell_type": "code",
      "execution_count": null,
      "metadata": {
        "colab": {
          "base_uri": "https://localhost:8080/"
        },
        "id": "qrOuDpXwfVjD",
        "outputId": "b118c436-67ab-4720-dca8-985531167513"
      },
      "outputs": [
        {
          "data": {
            "text/plain": [
              "array([[ 0,  1,  2,  3],\n",
              "       [ 8,  9, 10, 11],\n",
              "       [16, 17, 18, 19]])"
            ]
          },
          "execution_count": 13,
          "metadata": {},
          "output_type": "execute_result"
        }
      ],
      "source": [
        "a[::2,:] # ----------------> Slicing"
      ]
    },
    {
      "cell_type": "code",
      "execution_count": null,
      "metadata": {
        "colab": {
          "base_uri": "https://localhost:8080/"
        },
        "id": "X91TSccDfVmI",
        "outputId": "1120052f-29cf-427d-b18c-726bcef4ec70"
      },
      "outputs": [
        {
          "name": "stdout",
          "output_type": "stream",
          "text": [
            "[[ 0  1  2]\n",
            " [ 3  4  5]\n",
            " [ 6  7  8]\n",
            " [ 9 10 11]]\n"
          ]
        }
      ],
      "source": [
        "# Fancy Indexing\n",
        "\n",
        "a = np.arange(12).reshape(4,3)\n",
        "print(a)"
      ]
    },
    {
      "cell_type": "code",
      "execution_count": null,
      "metadata": {
        "colab": {
          "base_uri": "https://localhost:8080/"
        },
        "id": "PJc40-gWfVo5",
        "outputId": "a05420c6-cb76-4a0d-ed36-2c7127ecdaec"
      },
      "outputs": [
        {
          "data": {
            "text/plain": [
              "array([[ 0,  1,  2],\n",
              "       [ 6,  7,  8],\n",
              "       [ 9, 10, 11]])"
            ]
          },
          "execution_count": 19,
          "metadata": {},
          "output_type": "execute_result"
        }
      ],
      "source": [
        "a[[0,2,3]]"
      ]
    },
    {
      "cell_type": "code",
      "execution_count": null,
      "metadata": {
        "colab": {
          "base_uri": "https://localhost:8080/"
        },
        "id": "jZWxPcucfVrw",
        "outputId": "783e9431-561e-4035-bcb4-cac15cc7c768"
      },
      "outputs": [
        {
          "data": {
            "text/plain": [
              "array([[ 2],\n",
              "       [ 5],\n",
              "       [ 8],\n",
              "       [11]])"
            ]
          },
          "execution_count": 20,
          "metadata": {},
          "output_type": "execute_result"
        }
      ],
      "source": [
        "a[:,[-1]]"
      ]
    },
    {
      "cell_type": "markdown",
      "metadata": {
        "id": "-kHOn3VhBre6"
      },
      "source": [
        "# **Boolean indexing**"
      ]
    },
    {
      "cell_type": "code",
      "execution_count": null,
      "metadata": {
        "id": "3XW406CmfVuo"
      },
      "outputs": [],
      "source": [
        "a = np.random.randint(1,100,24).reshape(6,4)"
      ]
    },
    {
      "cell_type": "code",
      "execution_count": null,
      "metadata": {
        "colab": {
          "base_uri": "https://localhost:8080/"
        },
        "id": "Neaa-XK7fVxh",
        "outputId": "2bc879c2-8402-4ae5-8d64-243c6305e523"
      },
      "outputs": [
        {
          "name": "stdout",
          "output_type": "stream",
          "text": [
            "[[ 7 47 97 67]\n",
            " [92 53  9  3]\n",
            " [54 56 76  5]\n",
            " [27 64 32 64]\n",
            " [37 91 97 89]\n",
            " [14 34 63 11]]\n"
          ]
        }
      ],
      "source": [
        "print(a)"
      ]
    },
    {
      "cell_type": "code",
      "execution_count": null,
      "metadata": {
        "colab": {
          "base_uri": "https://localhost:8080/"
        },
        "id": "vNTc2JO5fV0Z",
        "outputId": "4055b712-d913-4955-cf74-416ad6e92c3b"
      },
      "outputs": [
        {
          "data": {
            "text/plain": [
              "array([[False, False,  True,  True],\n",
              "       [ True,  True, False, False],\n",
              "       [ True,  True,  True, False],\n",
              "       [False,  True, False,  True],\n",
              "       [False,  True,  True,  True],\n",
              "       [False, False,  True, False]])"
            ]
          },
          "execution_count": 26,
          "metadata": {},
          "output_type": "execute_result"
        }
      ],
      "source": [
        "# boolean indexing\n",
        "\n",
        "a > 50"
      ]
    },
    {
      "cell_type": "code",
      "execution_count": null,
      "metadata": {
        "colab": {
          "base_uri": "https://localhost:8080/"
        },
        "id": "mx1WZaAPfV3R",
        "outputId": "54b9d18b-280e-4d5a-eedf-030871dcc0c2"
      },
      "outputs": [
        {
          "data": {
            "text/plain": [
              "array([97, 67, 92, 53, 54, 56, 76, 64, 64, 91, 97, 89, 63])"
            ]
          },
          "execution_count": 28,
          "metadata": {},
          "output_type": "execute_result"
        }
      ],
      "source": [
        "# find all number greater than 50\n",
        "\n",
        "a[a > 50]"
      ]
    },
    {
      "cell_type": "code",
      "execution_count": null,
      "metadata": {
        "colab": {
          "base_uri": "https://localhost:8080/"
        },
        "id": "-DDQXcplfV6R",
        "outputId": "cf857f27-4027-47a3-a725-a728fa62d014"
      },
      "outputs": [
        {
          "data": {
            "text/plain": [
              "array([92, 54, 56, 76, 64, 32, 64, 14, 34])"
            ]
          },
          "execution_count": 30,
          "metadata": {},
          "output_type": "execute_result"
        }
      ],
      "source": [
        "# find all even number\n",
        "\n",
        "a[a % 2 == 0]"
      ]
    },
    {
      "cell_type": "code",
      "execution_count": null,
      "metadata": {
        "colab": {
          "base_uri": "https://localhost:8080/"
        },
        "id": "k0fzaEcEfV9B",
        "outputId": "555264c6-3066-457d-882e-5d052aafb28d"
      },
      "outputs": [
        {
          "data": {
            "text/plain": [
              "array([92, 54, 56, 76, 64, 64])"
            ]
          },
          "execution_count": 31,
          "metadata": {},
          "output_type": "execute_result"
        }
      ],
      "source": [
        "# find all no. greater than 50 and are even\n",
        "\n",
        "a[(a > 50) & (a % 2 == 0)]"
      ]
    },
    {
      "cell_type": "code",
      "execution_count": null,
      "metadata": {
        "colab": {
          "base_uri": "https://localhost:8080/"
        },
        "id": "i9jRAQqlfWAB",
        "outputId": "bc8e6881-07d5-4da2-c2bd-21a399e54b2e"
      },
      "outputs": [
        {
          "data": {
            "text/plain": [
              "array([47, 97, 67, 92, 53,  9,  3, 54, 76,  5, 27, 64, 32, 64, 37, 97, 89,\n",
              "       34, 11])"
            ]
          },
          "execution_count": 34,
          "metadata": {},
          "output_type": "execute_result"
        }
      ],
      "source": [
        "# find all numbernot divisible by 7\n",
        "\n",
        "a[a%7 !=0]"
      ]
    },
    {
      "cell_type": "code",
      "execution_count": null,
      "metadata": {
        "id": "KrthrEVAfWC4"
      },
      "outputs": [],
      "source": []
    },
    {
      "cell_type": "markdown",
      "metadata": {
        "id": "Z99O3N5qDGMS"
      },
      "source": [
        "# **Broadcasting**"
      ]
    },
    {
      "cell_type": "code",
      "execution_count": null,
      "metadata": {
        "id": "OqxHt5sAfWFY"
      },
      "outputs": [],
      "source": [
        "c1 = np.arange(12).reshape(4,3)\n",
        "c2 = np.arange(3).reshape(3)"
      ]
    },
    {
      "cell_type": "code",
      "execution_count": null,
      "metadata": {
        "colab": {
          "base_uri": "https://localhost:8080/"
        },
        "id": "rlVcUeDMfWIR",
        "outputId": "e985a618-039a-4a66-f28d-db5548cf83d0"
      },
      "outputs": [
        {
          "name": "stdout",
          "output_type": "stream",
          "text": [
            "(4, 3)\n"
          ]
        }
      ],
      "source": [
        "print(c1.shape)"
      ]
    },
    {
      "cell_type": "code",
      "execution_count": null,
      "metadata": {
        "colab": {
          "base_uri": "https://localhost:8080/"
        },
        "id": "pxNQlojYfWLB",
        "outputId": "a334bc32-a981-440f-bd09-8fc5b0872fb0"
      },
      "outputs": [
        {
          "name": "stdout",
          "output_type": "stream",
          "text": [
            "(3,)\n"
          ]
        }
      ],
      "source": [
        "print(c2.shape)"
      ]
    },
    {
      "cell_type": "code",
      "execution_count": null,
      "metadata": {
        "colab": {
          "base_uri": "https://localhost:8080/"
        },
        "id": "vQSpYwDAfWN4",
        "outputId": "44f79693-8fde-4a6b-86ce-197356a68dfc"
      },
      "outputs": [
        {
          "name": "stdout",
          "output_type": "stream",
          "text": [
            "[[ 0  2  4]\n",
            " [ 3  5  7]\n",
            " [ 6  8 10]\n",
            " [ 9 11 13]]\n"
          ]
        }
      ],
      "source": [
        "print(c1+c2) # -------------> adding occured ----> so broadcasting occured"
      ]
    },
    {
      "cell_type": "code",
      "execution_count": null,
      "metadata": {
        "id": "vAZwmgvxfWQp"
      },
      "outputs": [],
      "source": [
        "c1 = np.arange(12).reshape(4,3)\n",
        "c2 = np.arange(2).reshape(2)"
      ]
    },
    {
      "cell_type": "code",
      "execution_count": null,
      "metadata": {
        "colab": {
          "base_uri": "https://localhost:8080/"
        },
        "id": "_sZnTpiKfWTg",
        "outputId": "6d0e8244-ca04-421c-b757-2e0575d65cf1"
      },
      "outputs": [
        {
          "name": "stdout",
          "output_type": "stream",
          "text": [
            "[[ 0  1  2]\n",
            " [ 3  4  5]\n",
            " [ 6  7  8]\n",
            " [ 9 10 11]]\n"
          ]
        }
      ],
      "source": [
        "print(c1)"
      ]
    },
    {
      "cell_type": "code",
      "execution_count": null,
      "metadata": {
        "colab": {
          "base_uri": "https://localhost:8080/"
        },
        "id": "bfSUljNcfWWJ",
        "outputId": "437e40b3-261b-4699-907c-a073784c7622"
      },
      "outputs": [
        {
          "name": "stdout",
          "output_type": "stream",
          "text": [
            "[0 1]\n"
          ]
        }
      ],
      "source": [
        "print(c2)"
      ]
    },
    {
      "cell_type": "code",
      "execution_count": null,
      "metadata": {
        "colab": {
          "base_uri": "https://localhost:8080/",
          "height": 141
        },
        "id": "SuCjT3pffWZB",
        "outputId": "36322e3c-a59a-4ef2-a82a-c8bf9727e7bb"
      },
      "outputs": [
        {
          "ename": "ValueError",
          "evalue": "operands could not be broadcast together with shapes (4,3) (2,) ",
          "output_type": "error",
          "traceback": [
            "\u001b[0;31m---------------------------------------------------------------------------\u001b[0m",
            "\u001b[0;31mValueError\u001b[0m                                Traceback (most recent call last)",
            "\u001b[0;32m<ipython-input-52-d582a1b15954>\u001b[0m in \u001b[0;36m<cell line: 1>\u001b[0;34m()\u001b[0m\n\u001b[0;32m----> 1\u001b[0;31m \u001b[0mprint\u001b[0m\u001b[0;34m(\u001b[0m\u001b[0mc1\u001b[0m\u001b[0;34m+\u001b[0m\u001b[0mc2\u001b[0m\u001b[0;34m)\u001b[0m \u001b[0;31m# -------------> adding occured ----> so called broadcasting occured\u001b[0m\u001b[0;34m\u001b[0m\u001b[0;34m\u001b[0m\u001b[0m\n\u001b[0m",
            "\u001b[0;31mValueError\u001b[0m: operands could not be broadcast together with shapes (4,3) (2,) "
          ]
        }
      ],
      "source": [
        "print(c1+c2) # -------------> adding not occured ----> so  broadcasting  not occured"
      ]
    },
    {
      "cell_type": "code",
      "execution_count": null,
      "metadata": {
        "id": "2n6xEXBufWb5"
      },
      "outputs": [],
      "source": []
    },
    {
      "cell_type": "markdown",
      "metadata": {
        "id": "4VUV_kvtFeM6"
      },
      "source": [
        "# **Some Mathematical Function**"
      ]
    },
    {
      "cell_type": "code",
      "execution_count": null,
      "metadata": {
        "colab": {
          "base_uri": "https://localhost:8080/"
        },
        "id": "XCU75Lo6fWe4",
        "outputId": "44bf750e-c2ab-431b-be53-acf172bf75c1"
      },
      "outputs": [
        {
          "data": {
            "text/plain": [
              "array([ 0.        ,  0.84147098,  0.90929743,  0.14112001, -0.7568025 ,\n",
              "       -0.95892427, -0.2794155 ,  0.6569866 ,  0.98935825,  0.41211849])"
            ]
          },
          "execution_count": 53,
          "metadata": {},
          "output_type": "execute_result"
        }
      ],
      "source": [
        "a = np.arange(10)\n",
        "np.sin(a)"
      ]
    },
    {
      "cell_type": "code",
      "execution_count": null,
      "metadata": {
        "colab": {
          "base_uri": "https://localhost:8080/"
        },
        "id": "ugm_o8KrfWhp",
        "outputId": "f8c1058d-f44e-45d7-e19c-4e7c39ac6a46"
      },
      "outputs": [
        {
          "data": {
            "text/plain": [
              "array([0.5       , 0.73105858, 0.88079708, 0.95257413, 0.98201379,\n",
              "       0.99330715, 0.99752738, 0.99908895, 0.99966465, 0.99987661])"
            ]
          },
          "execution_count": 54,
          "metadata": {},
          "output_type": "execute_result"
        }
      ],
      "source": [
        "# Sigmoid Function\n",
        "\n",
        "def sigmoid(array):\n",
        "  return 1/(1 + np.exp(-(array)))\n",
        "\n",
        "a = np.arange(10)\n",
        "sigmoid(a)"
      ]
    },
    {
      "cell_type": "code",
      "execution_count": null,
      "metadata": {
        "colab": {
          "base_uri": "https://localhost:8080/"
        },
        "id": "fUxR7ZXqfWka",
        "outputId": "d5d496dd-8e5b-4d35-85d5-3f4ba25f641a"
      },
      "outputs": [
        {
          "data": {
            "text/plain": [
              "283.0"
            ]
          },
          "execution_count": 56,
          "metadata": {},
          "output_type": "execute_result"
        }
      ],
      "source": [
        "# Mean Squared error\n",
        "\n",
        "def mse(actual, predicted):\n",
        "  return np.mean((actual - predicted)**2)\n",
        "\n",
        "actual  = np.random.randint(1,50,25)\n",
        "predicted = np.random.randint(1,50,25)\n",
        "\n",
        "mse(actual,predicted)"
      ]
    },
    {
      "cell_type": "markdown",
      "metadata": {
        "id": "myoAmBjuLzKR"
      },
      "source": [
        "# **Working with missing values**"
      ]
    },
    {
      "cell_type": "code",
      "execution_count": null,
      "metadata": {
        "id": "DKrc2QwOfWnA"
      },
      "outputs": [],
      "source": [
        "a = np .array([1,2,3,4,np.nan,7,8,np.nan,10])"
      ]
    },
    {
      "cell_type": "code",
      "execution_count": null,
      "metadata": {
        "colab": {
          "base_uri": "https://localhost:8080/"
        },
        "id": "cWDuh4B0MARx",
        "outputId": "7e338961-4808-4b41-d216-8dfa04e249ef"
      },
      "outputs": [
        {
          "name": "stdout",
          "output_type": "stream",
          "text": [
            "[ 1.  2.  3.  4. nan  7.  8. nan 10.]\n"
          ]
        }
      ],
      "source": [
        "print(a)"
      ]
    },
    {
      "cell_type": "code",
      "execution_count": null,
      "metadata": {
        "colab": {
          "base_uri": "https://localhost:8080/"
        },
        "id": "pi8UuDCbMeHS",
        "outputId": "2ff0c4ed-6de1-4a60-fb2a-db6088e4fa50"
      },
      "outputs": [
        {
          "data": {
            "text/plain": [
              "array([ 1.,  2.,  3.,  4.,  7.,  8., 10.])"
            ]
          },
          "execution_count": 62,
          "metadata": {},
          "output_type": "execute_result"
        }
      ],
      "source": [
        "a[~np.isnan(a)]"
      ]
    },
    {
      "cell_type": "code",
      "execution_count": null,
      "metadata": {
        "id": "VHB9lyU3MeKZ"
      },
      "outputs": [],
      "source": []
    },
    {
      "cell_type": "markdown",
      "metadata": {
        "id": "2uB9qkMmLsm5"
      },
      "source": [
        "# **Plotting Graph through numpy**"
      ]
    },
    {
      "cell_type": "code",
      "execution_count": null,
      "metadata": {
        "colab": {
          "base_uri": "https://localhost:8080/",
          "height": 447
        },
        "id": "Ng_84yypMOnR",
        "outputId": "4ca32418-0f0d-4bf8-c7a4-890f66f4e852"
      },
      "outputs": [
        {
          "data": {
            "text/plain": [
              "[<matplotlib.lines.Line2D at 0x7dd8941bc850>]"
            ]
          },
          "execution_count": 63,
          "metadata": {},
          "output_type": "execute_result"
        },
        {
          "data": {
            "image/png": "[encoded data removed]",
            "text/plain": [
              "<Figure size 640x480 with 1 Axes>"
            ]
          },
          "metadata": {},
          "output_type": "display_data"
        }
      ],
      "source": [
        "# plotting graph of x = y\n",
        "import matplotlib.pyplot as plt\n",
        "\n",
        "x = np.linspace(-10,10,100)\n",
        "y = x\n",
        "\n",
        "plt.plot(x,y)"
      ]
    },
    {
      "cell_type": "code",
      "execution_count": null,
      "metadata": {
        "colab": {
          "base_uri": "https://localhost:8080/",
          "height": 447
        },
        "id": "cxxzg1y0LrlB",
        "outputId": "b94bbcaa-9e61-4698-f092-332f297f4716"
      },
      "outputs": [
        {
          "data": {
            "text/plain": [
              "[<matplotlib.lines.Line2D at 0x7dd84f26b490>]"
            ]
          },
          "execution_count": 66,
          "metadata": {},
          "output_type": "execute_result"
        },
        {
          "data": {
            "image/png": "[encoded data removed]",
            "text/plain": [
              "<Figure size 640x480 with 1 Axes>"
            ]
          },
          "metadata": {},
          "output_type": "display_data"
        }
      ],
      "source": [
        "# y = x**2\n",
        "\n",
        "x = np.linspace(-50,50,200)\n",
        "y = x**2\n",
        "\n",
        "plt.plot(x,y)"
      ]
    },
    {
      "cell_type": "code",
      "execution_count": null,
      "metadata": {
        "colab": {
          "background_save": true
        },
        "id": "cpab50IeLros",
        "outputId": "8824b334-b9a1-4ded-baa5-4a87bed69d30"
      },
      "outputs": [
        {
          "ename": "NameError",
          "evalue": "name 'linspace' is not defined",
          "output_type": "error",
          "traceback": [
            "\u001b[0;31m---------------------------------------------------------------------------\u001b[0m",
            "\u001b[0;31mNameError\u001b[0m                                 Traceback (most recent call last)",
            "\u001b[0;32m<ipython-input-67-064f1e513a6c>\u001b[0m in \u001b[0;36m<cell line: 3>\u001b[0;34m()\u001b[0m\n\u001b[1;32m      1\u001b[0m \u001b[0;31m# sigmoid\u001b[0m\u001b[0;34m\u001b[0m\u001b[0;34m\u001b[0m\u001b[0m\n\u001b[1;32m      2\u001b[0m \u001b[0;34m\u001b[0m\u001b[0m\n\u001b[0;32m----> 3\u001b[0;31m \u001b[0mx\u001b[0m \u001b[0;34m=\u001b[0m \u001b[0mlinspace\u001b[0m\u001b[0;34m(\u001b[0m\u001b[0;34m-\u001b[0m\u001b[0;36m10\u001b[0m\u001b[0;34m,\u001b[0m\u001b[0;36m10\u001b[0m\u001b[0;34m,\u001b[0m\u001b[0;36m100\u001b[0m\u001b[0;34m)\u001b[0m\u001b[0;34m\u001b[0m\u001b[0;34m\u001b[0m\u001b[0m\n\u001b[0m\u001b[1;32m      4\u001b[0m \u001b[0my\u001b[0m \u001b[0;34m=\u001b[0m \u001b[0;36m1\u001b[0m\u001b[0;34m/\u001b[0m\u001b[0;36m1\u001b[0m\u001b[0;34m+\u001b[0m \u001b[0mexp\u001b[0m\u001b[0;34m(\u001b[0m\u001b[0;34m-\u001b[0m\u001b[0mx\u001b[0m\u001b[0;34m)\u001b[0m\u001b[0;34m\u001b[0m\u001b[0;34m\u001b[0m\u001b[0m\n\u001b[1;32m      5\u001b[0m \u001b[0;34m\u001b[0m\u001b[0m\n",
            "\u001b[0;31mNameError\u001b[0m: name 'linspace' is not defined"
          ]
        }
      ],
      "source": [
        "# sigmoid\n",
        "\n",
        "x = linspace(-10,10,100)\n",
        "y = 1/1+ exp(-x)"
      ]
    },
    {
      "cell_type": "code",
      "execution_count": null,
      "metadata": {
        "id": "5nYKz8jmLrrC"
      },
      "outputs": [],
      "source": []
    },
    {
      "cell_type": "code",
      "execution_count": null,
      "metadata": {
        "id": "2pqE_bmILrt9"
      },
      "outputs": [],
      "source": []
    },
    {
      "cell_type": "code",
      "execution_count": null,
      "metadata": {
        "id": "rltwlYvPLrwy"
      },
      "outputs": [],
      "source": []
    },
    {
      "cell_type": "code",
      "execution_count": null,
      "metadata": {
        "id": "PTwiJWbbLrzN"
      },
      "outputs": [],
      "source": []
    }
  ],
  "metadata": {
    "colab": {
      "provenance": [],
      "authorship_tag": "ABX9TyNWfVAq2rPafx2eUcgFHgcJ",
      "include_colab_link": true
    },
    "kernelspec": {
      "display_name": "Python 3",
      "name": "python3"
    },
    "language_info": {
      "name": "python"
    }
  },
  "nbformat": 4,
  "nbformat_minor": 0
}